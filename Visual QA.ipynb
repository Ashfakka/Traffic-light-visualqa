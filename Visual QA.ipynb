{
 "cells": [
  {
   "cell_type": "code",
   "execution_count": 1,
   "id": "a70133f5",
   "metadata": {},
   "outputs": [],
   "source": [
    "from PIL import Image\n",
    "import pytesseract"
   ]
  },
  {
   "cell_type": "code",
   "execution_count": 2,
   "id": "0889cc1c",
   "metadata": {},
   "outputs": [],
   "source": [
    "from openai import OpenAI\n",
    "client = OpenAI(api_key=\"<OPENAI_KEY>\")"
   ]
  },
  {
   "cell_type": "code",
   "execution_count": 3,
   "id": "4b047599",
   "metadata": {},
   "outputs": [],
   "source": [
    "\n",
    "def extract_image(image_path):\n",
    "    image = Image.open(image_path)\n",
    "\n",
    "    # Use Tesseract to do OCR on the image\n",
    "    text = pytesseract.image_to_string(image)\n",
    "    return text\n",
    "\n"
   ]
  },
  {
   "cell_type": "code",
   "execution_count": 4,
   "id": "2fd65899",
   "metadata": {},
   "outputs": [],
   "source": [
    "def ask_openai_vqa(extracted_text, question):\n",
    "    messages = [\n",
    "        {\"role\": \"system\", \"content\": \"You are a helpful AI assistant. You will be given an extracted tabular data. You are tasked to answer the user questions\"},\n",
    "         {\"role\": \"user\", \"content\": f\"Extracted text: {extracted_text}\\n Question: {question}\"}\n",
    "    ]\n",
    "\n",
    "    response = client.chat.completions.create(\n",
    "        model=\"gpt-4o\",  \n",
    "        messages=messages,  \n",
    "        max_tokens=512, \n",
    "        temperature=1,\n",
    "        top_p=1,\n",
    "        frequency_penalty=0,\n",
    "        presence_penalty=0\n",
    "    )\n",
    "    answer = response.choices[0].message.content\n",
    "    return answer"
   ]
  },
  {
   "cell_type": "code",
   "execution_count": 5,
   "id": "c67053ea",
   "metadata": {},
   "outputs": [
    {
     "data": {
      "text/plain": [
       "\"To determine which salesperson made the highest order amount, we need to aggregate the amounts for each salesperson. Here are the order amounts by salesperson aggregated from the extracted data:\\n\\nFuller:\\n- 3/01/2021: 1,440.00\\n- 8/01/2021: 1,591.25\\n- 9/01/2021: 2,505.60\\n**Total: 5,536.85**\\n\\nGloucester:\\n- 2/01/2021: 716.72\\n**Total: 716.72**\\n\\nBromley:\\n- 2/01/2021: 344.00\\n- 10/01/2021: 2,713.50\\n**Total: 3,057.50**\\n\\nFinchley:\\n- 3/01/2021: 2,556.95\\n- 3/01/2021: 442.00\\n- 6/01/2021: 1,903.80\\n- 10/01/2021: 3,868.60\\n**Total: 8,771.35**\\n\\nGillingham:\\n- 3/01/2021: 2,122.92\\n**Total: 2,122.92**\\n\\nCallahan:\\n- 8/01/2021: 1,765.60\\n- 13/01/2021: 1,622.40\\n- 15/01/2021: 334.80\\n**Total: 3,722.80**\\n\\nCoghill:\\n- 9/01/2021: 855.01\\n**Total: 855.01**\\n\\nRayleigh:\\n- 13/01/2021: 1,830.78\\n**Total: 1,830.78**\\n\\nFarnham:\\n- 14/01/2021: 319.20\\n- 15/01/2021: 802.00 \\n**Total: 1,121.20**\\n\\nAfter adding the order amounts for each salesperson, it's clear that Finchley has the highest total order amount of 8,771.35.\""
      ]
     },
     "execution_count": 5,
     "metadata": {},
     "output_type": "execute_result"
    }
   ],
   "source": [
    "image_path = 'tabular_data_1.png'  # Update with your image path\n",
    "question = 'Can you tell me which salesperson made highest order amount. You need to add all order amount and tell me who made the highest order amount'\n",
    "\n",
    "extracted_text = extract_image(image_path)\n",
    "answer = ask_openai_vqa(extracted_text, question)\n",
    "answer"
   ]
  },
  {
   "cell_type": "code",
   "execution_count": null,
   "id": "72a5719e",
   "metadata": {},
   "outputs": [],
   "source": []
  },
  {
   "cell_type": "code",
   "execution_count": 11,
   "id": "c7d03e4d",
   "metadata": {},
   "outputs": [],
   "source": [
    "image_path = 'tabular_data_1.png'\n",
    "extracted_text = extract_image(image_path)"
   ]
  },
  {
   "cell_type": "code",
   "execution_count": null,
   "id": "223cf4a5-b83a-4af4-be58-e213c0fcaf2a",
   "metadata": {},
   "outputs": [],
   "source": []
  },
  {
   "cell_type": "markdown",
   "id": "d4b192b2",
   "metadata": {},
   "source": [
    "# Llama3.1"
   ]
  },
  {
   "cell_type": "code",
   "execution_count": 9,
   "id": "72e31366",
   "metadata": {},
   "outputs": [],
   "source": [
    "import ollama"
   ]
  },
  {
   "cell_type": "code",
   "execution_count": 12,
   "id": "160ffda9",
   "metadata": {},
   "outputs": [
    {
     "name": "stdout",
     "output_type": "stream",
     "text": [
      "To find the salesperson with the highest order amount, I will add up the total order amounts for each salesperson.\n",
      "\n",
      "Here are the calculations:\n",
      "\n",
      "1. Fuller:\n",
      "\t* 01/03/2021: $1,440.00\n",
      "\t* 08/01/2021: $1,591.25 (x2) = $3,182.50\n",
      "\tTotal: $4,622.50\n",
      "2. Gloucester:\n",
      "\t* 02/01/2021: $716.72\n",
      "\tTotal: $716.72\n",
      "3. Bromley:\n",
      "\t* 02/01/2021: $344.00 (UK)\n",
      "\t* 10/01/2021: $2,713.50 (USA)\n",
      "\tTotal: $2,857.50 (Note: I'll keep track of this as a separate entry since there are two salespeople with the same last name)\n",
      "4. Finchley:\n",
      "\t* 03/01/2021 (x3): $2,556.95 + $442.00 + $1,903.80 = $5,902.75\n",
      "5. Gillingham:\n",
      "\t* 03/01/2021: $2,122.92\n",
      "6. Callahan:\n",
      "\t* 08/01/2021: $1,765.60\n",
      "\t* 15/01/2021 (x3): $1,622.40 + $334.80 = $1,957.20\n",
      "\tTotal: $3,722.80\n",
      "7. Farnham:\n",
      "\t* 14/01/2021: $319.20\n",
      "\t* 15/01/2021: $802.00\n",
      "\tTotal: $1,121.20\n",
      "\n",
      "Now, let's add up all the totals to find the highest order amount:\n",
      "\n",
      "$4,622.50 (Fuller) + $716.72 (Gloucester) = $5,339.22\n",
      "$5,339.22 + $2,857.50 (Bromley) = $8,196.72\n",
      "$8,196.72 + $5,902.75 (Finchley) = $14,099.47\n",
      "$14,099.47 + $2,122.92 (Gillingham) = $16,222.39\n",
      "$16,222.39 + $3,722.80 (Callahan) = $19,945.19\n",
      "$19,945.19 + $1,121.20 (Farnham) = $21,066.39\n",
      "\n",
      "The salesperson with the highest order amount is **Finchley**, with a total of **$21,066.39**.\n"
     ]
    }
   ],
   "source": [
    "response = ollama.chat(model='llama3.1', messages=[\n",
    " \n",
    "        {\"role\": \"system\", \"content\": \"You are a helpful AI assistant. You will be given an extracted tabular data. You are tasked to answer the user questions\"},\n",
    "         {\"role\": \"user\", \"content\": f\"Extracted text: {extracted_text}\\n Question: {question}\"}\n",
    "     \n",
    "])\n",
    "print(response['message']['content'])"
   ]
  },
  {
   "cell_type": "code",
   "execution_count": 14,
   "id": "58bf0360",
   "metadata": {},
   "outputs": [
    {
     "name": "stdout",
     "output_type": "stream",
     "text": [
      " To find the salesperson who made the highest order amount, I will iterate through each row in the data provided and keep track of the maximum total order amount found so far. Here are the steps:\n",
      "\n",
      "1. First, let's identify the relevant columns in the table:\n",
      "- Sales Location (Country): Column 0\n",
      "- Date: Column 1\n",
      "- Stock Code/Item Name: Column 2\n",
      "- Quantity: Column 3\n",
      "- Price: Column 4\n",
      "\n",
      "2. Next, I will write a function to parse the date and extract the salesperson's name based on their location (in this case, it is determined by the country). For example, the USA salesperson can be identified as \"Finchley\" or \"Callahan\" or \"Fuller\".\n",
      "\n",
      "3. After that, I will create another function to calculate the total order amount for each row and sum up the values for all rows corresponding to a specific salesperson:\n",
      "\n",
      "```python\n",
      "def parse_date(date):\n",
      "    return datetime.strptime(date[:10], \"%d/%m/%Y\")\n",
      "\n",
      "def get_salesperson(country):\n",
      "    if country == \"USA\":\n",
      "        return date[8] + date[9:12].lower()\n",
      "    elif country == \"uk\" or country == \"UK\":\n",
      "        return date[4] + date[5:7].lower()\n",
      "    else:\n",
      "        raise ValueError(f\"Invalid sales location: {country}\")\n",
      "\n",
      "def total_order_amount(row):\n",
      "    quantity = float(row[3])\n",
      "    price = float(row[4])\n",
      "    return quantity * price\n",
      "\n",
      "def get_highest_salesperson():\n",
      "    highest_total = 0.0\n",
      "    salesperson = \"\"\n",
      "    for i in range(len(data)):\n",
      "        total = total_order_amount(data[i])\n",
      "        if total > highest_total:\n",
      "            highest_total = total\n",
      "            salesperson = get_salesperson(data[i][0])\n",
      "    return salesperson, highest_total\n",
      "```\n",
      "\n",
      "4. Call the `get_highest_salesperson()` function to find the salesperson who made the highest order amount and its total order amount:\n",
      "\n",
      "```python\n",
      "import datetime\n",
      "\n",
      "data = [[\"cy Espn ORETTSTS EZ ORE\", \"3/01/2021\", \"B\", \"1,440.00\"], [\"uk Gloucester\", \"2/01/2021\", \"10397\", \"v7\", \"716.72\"], [\"UK Bromley 2jor/2021.\", \"2/01/2021\", \"10771\", \"18\", \"344.00\"], ...]\n",
      "salesperson, total_order_amount = get_highest_salesperson()\n",
      "print(f\"The salesperson with the highest order amount is {salesperson} with a total of ${total_order_amount:.2f}\")\n",
      "```\n",
      "\n",
      "Output:\n",
      "```\n",
      "The salesperson with the highest order amount is Finchley with a total of $10,675.35\n",
      "```\n"
     ]
    }
   ],
   "source": [
    "response = ollama.chat(model='mistral', messages=[\n",
    " \n",
    "        {\"role\": \"system\", \"content\": \"You are a helpful AI assistant. You will be given an extracted tabular data. You are tasked to answer the user questions\"},\n",
    "         {\"role\": \"user\", \"content\": f\"Extracted text: {extracted_text}\\n Question: {question}\"}\n",
    "     \n",
    "])\n",
    "print(response['message']['content'])"
   ]
  }
 ],
 "metadata": {
  "kernelspec": {
   "display_name": "Python 3 (ipykernel)",
   "language": "python",
   "name": "python3"
  },
  "language_info": {
   "codemirror_mode": {
    "name": "ipython",
    "version": 3
   },
   "file_extension": ".py",
   "mimetype": "text/x-python",
   "name": "python",
   "nbconvert_exporter": "python",
   "pygments_lexer": "ipython3",
   "version": "3.10.0"
  }
 },
 "nbformat": 4,
 "nbformat_minor": 5
}
